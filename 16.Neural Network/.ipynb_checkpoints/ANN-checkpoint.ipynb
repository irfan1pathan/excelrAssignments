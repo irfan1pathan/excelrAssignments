{
 "cells": [
  {
   "cell_type": "markdown",
   "metadata": {
    "colab_type": "text",
    "id": "view-in-github"
   },
   "source": [
    "<a href=\"https://colab.research.google.com/github/chiraag-kakar/Combined-Cycle-Power-Plant/blob/master/ANN.ipynb\" target=\"_parent\"><img src=\"https://colab.research.google.com/assets/colab-badge.svg\" alt=\"Open In Colab\"/></a>"
   ]
  },
  {
   "cell_type": "markdown",
   "metadata": {
    "colab_type": "text",
    "id": "3cbb7fRy-eyr"
   },
   "source": [
    "# Artificial Neural Network"
   ]
  },
  {
   "cell_type": "markdown",
   "metadata": {
    "colab_type": "text",
    "id": "8sNDnxE2-pwE"
   },
   "source": [
    "### Importing the libraries"
   ]
  },
  {
   "cell_type": "code",
   "execution_count": 4,
   "metadata": {
    "colab": {},
    "colab_type": "code",
    "id": "lxChR1Rk-umf"
   },
   "outputs": [],
   "source": [
    "import numpy as np\n",
    "import pandas as pd\n",
    "import tensorflow as tf"
   ]
  },
  {
   "cell_type": "code",
   "execution_count": 5,
   "metadata": {
    "colab": {
     "base_uri": "https://localhost:8080/",
     "height": 37
    },
    "colab_type": "code",
    "id": "uBTqR3nacj0e",
    "outputId": "5b368b3b-0e9f-445c-fcbe-e6092d333c28"
   },
   "outputs": [
    {
     "data": {
      "application/vnd.google.colaboratory.intrinsic": {
       "type": "string"
      },
      "text/plain": [
       "'2.2.0'"
      ]
     },
     "execution_count": 5,
     "metadata": {
      "tags": []
     },
     "output_type": "execute_result"
    }
   ],
   "source": [
    "tf.__version__"
   ]
  },
  {
   "cell_type": "markdown",
   "metadata": {
    "colab_type": "text",
    "id": "AG3FQEch-yuA"
   },
   "source": [
    "## Part 1 - Data Preprocessing"
   ]
  },
  {
   "cell_type": "markdown",
   "metadata": {
    "colab_type": "text",
    "id": "-4zq8Mza_D9O"
   },
   "source": [
    "### Importing the dataset"
   ]
  },
  {
   "cell_type": "code",
   "execution_count": 7,
   "metadata": {
    "colab": {},
    "colab_type": "code",
    "id": "B9CV13Co_HHM"
   },
   "outputs": [],
   "source": [
    "dataset = pd.read_csv('dataset-ann.csv')\n",
    "X = dataset.iloc[:, :-1].values\n",
    "y = dataset.iloc[:, -1].values"
   ]
  },
  {
   "cell_type": "markdown",
   "metadata": {
    "colab_type": "text",
    "id": "VC6omXel_Up0"
   },
   "source": [
    "### Splitting the dataset into the Training set and Test set"
   ]
  },
  {
   "cell_type": "code",
   "execution_count": 8,
   "metadata": {
    "colab": {},
    "colab_type": "code",
    "id": "L5edeb2r_agx"
   },
   "outputs": [],
   "source": [
    "from sklearn.model_selection import train_test_split\n",
    "X_train, X_test, y_train, y_test = train_test_split(X, y, test_size = 0.2, random_state = 0)"
   ]
  },
  {
   "cell_type": "markdown",
   "metadata": {
    "colab_type": "text",
    "id": "_mSLlAT9_eyI"
   },
   "source": [
    "## Part 2 - Building the ANN"
   ]
  },
  {
   "cell_type": "markdown",
   "metadata": {
    "colab_type": "text",
    "id": "CsBULd_f_wLY"
   },
   "source": [
    "### Initializing the ANN"
   ]
  },
  {
   "cell_type": "code",
   "execution_count": 9,
   "metadata": {
    "colab": {},
    "colab_type": "code",
    "id": "J6Hd97Ls__Nz"
   },
   "outputs": [],
   "source": [
    "ann = tf.keras.models.Sequential()"
   ]
  },
  {
   "cell_type": "markdown",
   "metadata": {
    "colab_type": "text",
    "id": "iitAFJS_ABUn"
   },
   "source": [
    "### Adding the input layer and the first hidden layer"
   ]
  },
  {
   "cell_type": "code",
   "execution_count": 10,
   "metadata": {
    "colab": {},
    "colab_type": "code",
    "id": "ksO_Vv40AHix"
   },
   "outputs": [],
   "source": [
    "ann.add(tf.keras.layers.Dense(units=6, activation='relu'))"
   ]
  },
  {
   "cell_type": "markdown",
   "metadata": {
    "colab_type": "text",
    "id": "-lb4kK_wAKbs"
   },
   "source": [
    "### Adding the second hidden layer"
   ]
  },
  {
   "cell_type": "code",
   "execution_count": 11,
   "metadata": {
    "colab": {},
    "colab_type": "code",
    "id": "c2357OqEAQOQ"
   },
   "outputs": [],
   "source": [
    "ann.add(tf.keras.layers.Dense(units=6, activation='relu'))"
   ]
  },
  {
   "cell_type": "markdown",
   "metadata": {
    "colab_type": "text",
    "id": "jwMOmKb3AdBY"
   },
   "source": [
    "### Adding the output layer"
   ]
  },
  {
   "cell_type": "code",
   "execution_count": 12,
   "metadata": {
    "colab": {},
    "colab_type": "code",
    "id": "YFATpzsUAkLL"
   },
   "outputs": [],
   "source": [
    "ann.add(tf.keras.layers.Dense(units=1))"
   ]
  },
  {
   "cell_type": "markdown",
   "metadata": {
    "colab_type": "text",
    "id": "fq7e4fF6A1yy"
   },
   "source": [
    "## Part 3 - Training the ANN"
   ]
  },
  {
   "cell_type": "markdown",
   "metadata": {
    "colab_type": "text",
    "id": "qDeylAs2An25"
   },
   "source": [
    "### Compiling the ANN"
   ]
  },
  {
   "cell_type": "code",
   "execution_count": 13,
   "metadata": {
    "colab": {},
    "colab_type": "code",
    "id": "pesgbWlCAtB4"
   },
   "outputs": [],
   "source": [
    "ann.compile(optimizer = 'adam', loss = 'mean_squared_error')"
   ]
  },
  {
   "cell_type": "markdown",
   "metadata": {
    "colab_type": "text",
    "id": "YjVuiybYOo7r"
   },
   "source": [
    "### Training the ANN model on the Training set"
   ]
  },
  {
   "cell_type": "code",
   "execution_count": 14,
   "metadata": {
    "colab": {
     "base_uri": "https://localhost:8080/",
     "height": 1000
    },
    "colab_type": "code",
    "id": "c_vV-tiiA5zn",
    "outputId": "7a09123b-c882-4244-bdc6-6f9c0eda57ec"
   },
   "outputs": [
    {
     "name": "stdout",
     "output_type": "stream",
     "text": [
      "Epoch 1/100\n",
      "240/240 [==============================] - 0s 1ms/step - loss: 1341.0756\n",
      "Epoch 2/100\n",
      "240/240 [==============================] - 0s 1ms/step - loss: 502.0225\n",
      "Epoch 3/100\n",
      "240/240 [==============================] - 0s 1ms/step - loss: 336.3948\n",
      "Epoch 4/100\n",
      "240/240 [==============================] - 0s 1ms/step - loss: 205.9537\n",
      "Epoch 5/100\n",
      "240/240 [==============================] - 0s 1ms/step - loss: 113.7645\n",
      "Epoch 6/100\n",
      "240/240 [==============================] - 0s 1ms/step - loss: 61.0760\n",
      "Epoch 7/100\n",
      "240/240 [==============================] - 0s 1ms/step - loss: 37.4940\n",
      "Epoch 8/100\n",
      "240/240 [==============================] - 0s 1ms/step - loss: 29.7028\n",
      "Epoch 9/100\n",
      "240/240 [==============================] - 0s 1ms/step - loss: 27.5118\n",
      "Epoch 10/100\n",
      "240/240 [==============================] - 0s 1ms/step - loss: 27.0360\n",
      "Epoch 11/100\n",
      "240/240 [==============================] - 0s 1ms/step - loss: 27.5608\n",
      "Epoch 12/100\n",
      "240/240 [==============================] - 0s 1ms/step - loss: 26.7190\n",
      "Epoch 13/100\n",
      "240/240 [==============================] - 0s 1ms/step - loss: 26.9490\n",
      "Epoch 14/100\n",
      "240/240 [==============================] - 0s 1ms/step - loss: 26.9277\n",
      "Epoch 15/100\n",
      "240/240 [==============================] - 0s 1ms/step - loss: 26.7602\n",
      "Epoch 16/100\n",
      "240/240 [==============================] - 0s 1ms/step - loss: 26.7879\n",
      "Epoch 17/100\n",
      "240/240 [==============================] - 0s 1ms/step - loss: 27.1262\n",
      "Epoch 18/100\n",
      "240/240 [==============================] - 0s 1ms/step - loss: 27.1065\n",
      "Epoch 19/100\n",
      "240/240 [==============================] - 0s 1ms/step - loss: 26.6260\n",
      "Epoch 20/100\n",
      "240/240 [==============================] - 0s 1ms/step - loss: 27.2588\n",
      "Epoch 21/100\n",
      "240/240 [==============================] - 0s 1ms/step - loss: 27.8044\n",
      "Epoch 22/100\n",
      "240/240 [==============================] - 0s 1ms/step - loss: 28.3580\n",
      "Epoch 23/100\n",
      "240/240 [==============================] - 0s 1ms/step - loss: 27.0040\n",
      "Epoch 24/100\n",
      "240/240 [==============================] - 0s 1ms/step - loss: 26.7629\n",
      "Epoch 25/100\n",
      "240/240 [==============================] - 0s 1ms/step - loss: 27.1219\n",
      "Epoch 26/100\n",
      "240/240 [==============================] - 0s 1ms/step - loss: 26.6637\n",
      "Epoch 27/100\n",
      "240/240 [==============================] - 0s 1ms/step - loss: 26.7528\n",
      "Epoch 28/100\n",
      "240/240 [==============================] - 0s 1ms/step - loss: 27.1091\n",
      "Epoch 29/100\n",
      "240/240 [==============================] - 0s 1ms/step - loss: 26.8572\n",
      "Epoch 30/100\n",
      "240/240 [==============================] - 0s 1ms/step - loss: 26.8060\n",
      "Epoch 31/100\n",
      "240/240 [==============================] - 0s 1ms/step - loss: 26.4529\n",
      "Epoch 32/100\n",
      "240/240 [==============================] - 0s 1ms/step - loss: 27.4887\n",
      "Epoch 33/100\n",
      "240/240 [==============================] - 0s 1ms/step - loss: 27.5607\n",
      "Epoch 34/100\n",
      "240/240 [==============================] - 0s 1ms/step - loss: 26.8829\n",
      "Epoch 35/100\n",
      "240/240 [==============================] - 0s 1ms/step - loss: 27.1785\n",
      "Epoch 36/100\n",
      "240/240 [==============================] - 0s 1ms/step - loss: 27.0400\n",
      "Epoch 37/100\n",
      "240/240 [==============================] - 0s 1ms/step - loss: 27.3116\n",
      "Epoch 38/100\n",
      "240/240 [==============================] - 0s 1ms/step - loss: 26.9475\n",
      "Epoch 39/100\n",
      "240/240 [==============================] - 0s 1ms/step - loss: 26.4810\n",
      "Epoch 40/100\n",
      "240/240 [==============================] - 0s 1ms/step - loss: 26.7801\n",
      "Epoch 41/100\n",
      "240/240 [==============================] - 0s 1ms/step - loss: 27.0512\n",
      "Epoch 42/100\n",
      "240/240 [==============================] - 0s 1ms/step - loss: 27.2188\n",
      "Epoch 43/100\n",
      "240/240 [==============================] - 0s 1ms/step - loss: 27.0391\n",
      "Epoch 44/100\n",
      "240/240 [==============================] - 0s 1ms/step - loss: 27.3774\n",
      "Epoch 45/100\n",
      "240/240 [==============================] - 0s 1ms/step - loss: 27.2406\n",
      "Epoch 46/100\n",
      "240/240 [==============================] - 0s 1ms/step - loss: 26.5316\n",
      "Epoch 47/100\n",
      "240/240 [==============================] - 0s 1ms/step - loss: 27.7578\n",
      "Epoch 48/100\n",
      "240/240 [==============================] - 0s 1ms/step - loss: 26.8174\n",
      "Epoch 49/100\n",
      "240/240 [==============================] - 0s 1ms/step - loss: 27.2907\n",
      "Epoch 50/100\n",
      "240/240 [==============================] - 0s 1ms/step - loss: 27.3689\n",
      "Epoch 51/100\n",
      "240/240 [==============================] - 0s 1ms/step - loss: 27.5283\n",
      "Epoch 52/100\n",
      "240/240 [==============================] - 0s 1ms/step - loss: 26.4778\n",
      "Epoch 53/100\n",
      "240/240 [==============================] - 0s 1ms/step - loss: 26.7326\n",
      "Epoch 54/100\n",
      "240/240 [==============================] - 0s 1ms/step - loss: 26.5457\n",
      "Epoch 55/100\n",
      "240/240 [==============================] - 0s 1ms/step - loss: 27.2848\n",
      "Epoch 56/100\n",
      "240/240 [==============================] - 0s 1ms/step - loss: 26.9421\n",
      "Epoch 57/100\n",
      "240/240 [==============================] - 0s 1ms/step - loss: 26.8443\n",
      "Epoch 58/100\n",
      "240/240 [==============================] - 0s 1ms/step - loss: 26.7249\n",
      "Epoch 59/100\n",
      "240/240 [==============================] - 0s 1ms/step - loss: 26.9679\n",
      "Epoch 60/100\n",
      "240/240 [==============================] - 0s 1ms/step - loss: 27.1791\n",
      "Epoch 61/100\n",
      "240/240 [==============================] - 0s 1ms/step - loss: 26.6751\n",
      "Epoch 62/100\n",
      "240/240 [==============================] - 0s 1ms/step - loss: 27.0172\n",
      "Epoch 63/100\n",
      "240/240 [==============================] - 0s 1ms/step - loss: 26.8217\n",
      "Epoch 64/100\n",
      "240/240 [==============================] - 0s 1ms/step - loss: 27.7721\n",
      "Epoch 65/100\n",
      "240/240 [==============================] - 0s 1ms/step - loss: 27.0340\n",
      "Epoch 66/100\n",
      "240/240 [==============================] - 0s 1ms/step - loss: 27.3098\n",
      "Epoch 67/100\n",
      "240/240 [==============================] - 0s 1ms/step - loss: 26.7801\n",
      "Epoch 68/100\n",
      "240/240 [==============================] - 0s 1ms/step - loss: 26.5893\n",
      "Epoch 69/100\n",
      "240/240 [==============================] - 0s 1ms/step - loss: 26.5400\n",
      "Epoch 70/100\n",
      "240/240 [==============================] - 0s 1ms/step - loss: 27.7064\n",
      "Epoch 71/100\n",
      "240/240 [==============================] - 0s 1ms/step - loss: 27.1509\n",
      "Epoch 72/100\n",
      "240/240 [==============================] - 0s 1ms/step - loss: 26.3837\n",
      "Epoch 73/100\n",
      "240/240 [==============================] - 0s 1ms/step - loss: 27.3081\n",
      "Epoch 74/100\n",
      "240/240 [==============================] - 0s 1ms/step - loss: 26.5081\n",
      "Epoch 75/100\n",
      "240/240 [==============================] - 0s 1ms/step - loss: 27.6110\n",
      "Epoch 76/100\n",
      "240/240 [==============================] - 0s 1ms/step - loss: 27.7680\n",
      "Epoch 77/100\n",
      "240/240 [==============================] - 0s 1ms/step - loss: 26.8579\n",
      "Epoch 78/100\n",
      "240/240 [==============================] - 0s 1ms/step - loss: 27.5878\n",
      "Epoch 79/100\n",
      "240/240 [==============================] - 0s 1ms/step - loss: 26.7139\n",
      "Epoch 80/100\n",
      "240/240 [==============================] - 0s 1ms/step - loss: 26.6033\n",
      "Epoch 81/100\n",
      "240/240 [==============================] - 0s 1ms/step - loss: 27.9817\n",
      "Epoch 82/100\n",
      "240/240 [==============================] - 0s 1ms/step - loss: 26.4931\n",
      "Epoch 83/100\n",
      "240/240 [==============================] - 0s 1ms/step - loss: 26.8623\n",
      "Epoch 84/100\n",
      "240/240 [==============================] - 0s 1ms/step - loss: 27.2691\n",
      "Epoch 85/100\n",
      "240/240 [==============================] - 0s 1ms/step - loss: 26.7338\n",
      "Epoch 86/100\n",
      "240/240 [==============================] - 0s 1ms/step - loss: 27.2092\n",
      "Epoch 87/100\n",
      "240/240 [==============================] - 0s 1ms/step - loss: 26.6334\n",
      "Epoch 88/100\n",
      "240/240 [==============================] - 0s 1ms/step - loss: 27.2941\n",
      "Epoch 89/100\n",
      "240/240 [==============================] - 0s 1ms/step - loss: 27.3053\n",
      "Epoch 90/100\n",
      "240/240 [==============================] - 0s 1ms/step - loss: 26.2070\n",
      "Epoch 91/100\n",
      "240/240 [==============================] - 0s 1ms/step - loss: 26.4582\n",
      "Epoch 92/100\n",
      "240/240 [==============================] - 0s 1ms/step - loss: 26.5913\n",
      "Epoch 93/100\n",
      "240/240 [==============================] - 0s 1ms/step - loss: 26.8454\n",
      "Epoch 94/100\n",
      "240/240 [==============================] - 0s 1ms/step - loss: 26.4292\n",
      "Epoch 95/100\n",
      "240/240 [==============================] - 0s 1ms/step - loss: 27.4360\n",
      "Epoch 96/100\n",
      "240/240 [==============================] - 0s 1ms/step - loss: 27.5164\n",
      "Epoch 97/100\n",
      "240/240 [==============================] - 0s 1ms/step - loss: 26.8609\n",
      "Epoch 98/100\n",
      "240/240 [==============================] - 0s 1ms/step - loss: 26.9228\n",
      "Epoch 99/100\n",
      "240/240 [==============================] - 0s 1ms/step - loss: 26.6758\n",
      "Epoch 100/100\n",
      "240/240 [==============================] - 0s 1ms/step - loss: 26.3086\n"
     ]
    },
    {
     "data": {
      "text/plain": [
       "<tensorflow.python.keras.callbacks.History at 0x7f3b77a73a58>"
      ]
     },
     "execution_count": 14,
     "metadata": {
      "tags": []
     },
     "output_type": "execute_result"
    }
   ],
   "source": [
    "ann.fit(X_train, y_train, batch_size = 32, epochs = 100)"
   ]
  },
  {
   "cell_type": "markdown",
   "metadata": {
    "colab_type": "text",
    "id": "0H0zKKNEBLD5"
   },
   "source": [
    "### Predicting the results of the Test set"
   ]
  },
  {
   "cell_type": "code",
   "execution_count": 15,
   "metadata": {
    "colab": {
     "base_uri": "https://localhost:8080/",
     "height": 139
    },
    "colab_type": "code",
    "id": "IA0yApEmBG1X",
    "outputId": "d7a11c81-746b-4d0f-ed73-528d55a633b6"
   },
   "outputs": [
    {
     "name": "stdout",
     "output_type": "stream",
     "text": [
      "[[430.66 426.18]\n",
      " [450.08 451.1 ]\n",
      " [445.71 442.87]\n",
      " ...\n",
      " [456.68 454.2 ]\n",
      " [449.68 444.13]\n",
      " [431.94 436.58]]\n"
     ]
    }
   ],
   "source": [
    "y_pred = ann.predict(X_test)\n",
    "np.set_printoptions(precision=2)\n",
    "print(np.concatenate((y_pred.reshape(len(y_pred),1), y_test.reshape(len(y_test),1)),1))"
   ]
  }
 ],
 "metadata": {
  "colab": {
   "collapsed_sections": [],
   "include_colab_link": true,
   "name": "ANN",
   "provenance": [],
   "toc_visible": true
  },
  "kernelspec": {
   "display_name": "Python 3 (ipykernel)",
   "language": "python",
   "name": "python3"
  },
  "language_info": {
   "codemirror_mode": {
    "name": "ipython",
    "version": 3
   },
   "file_extension": ".py",
   "mimetype": "text/x-python",
   "name": "python",
   "nbconvert_exporter": "python",
   "pygments_lexer": "ipython3",
   "version": "3.9.7"
  }
 },
 "nbformat": 4,
 "nbformat_minor": 1
}
